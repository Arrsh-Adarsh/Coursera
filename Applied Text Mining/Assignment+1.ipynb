{
 "cells": [
  {
   "cell_type": "markdown",
   "metadata": {},
   "source": [
    "---\n",
    "\n",
    "_You are currently looking at **version 1.1** of this notebook. To download notebooks and datafiles, as well as get help on Jupyter notebooks in the Coursera platform, visit the [Jupyter Notebook FAQ](https://www.coursera.org/learn/python-text-mining/resources/d9pwm) course resource._\n",
    "\n",
    "---"
   ]
  },
  {
   "cell_type": "markdown",
   "metadata": {},
   "source": [
    "# Assignment 1\n",
    "\n",
    "In this assignment, you'll be working with messy medical data and using regex to extract relevant infromation from the data. \n",
    "\n",
    "Each line of the `dates.txt` file corresponds to a medical note. Each note has a date that needs to be extracted, but each date is encoded in one of many formats.\n",
    "\n",
    "The goal of this assignment is to correctly identify all of the different date variants encoded in this dataset and to properly normalize and sort the dates. \n",
    "\n",
    "Here is a list of some of the variants you might encounter in this dataset:\n",
    "* 04/20/2009; 04/20/09; 4/20/09; 4/3/09\n",
    "* Mar-20-2009; Mar 20, 2009; March 20, 2009;  Mar. 20, 2009; Mar 20 2009;\n",
    "* 20 Mar 2009; 20 March 2009; 20 Mar. 2009; 20 March, 2009\n",
    "* Mar 20th, 2009; Mar 21st, 2009; Mar 22nd, 2009\n",
    "* Feb 2009; Sep 2009; Oct 2010\n",
    "* 6/2008; 12/2009\n",
    "* 2009; 2010\n",
    "\n",
    "Once you have extracted these date patterns from the text, the next step is to sort them in ascending chronological order accoring to the following rules:\n",
    "* Assume all dates in xx/xx/xx format are mm/dd/yy\n",
    "* Assume all dates where year is encoded in only two digits are years from the 1900's (e.g. 1/5/89 is January 5th, 1989)\n",
    "* If the day is missing (e.g. 9/2009), assume it is the first day of the month (e.g. September 1, 2009).\n",
    "* If the month is missing (e.g. 2010), assume it is the first of January of that year (e.g. January 1, 2010).\n",
    "* Watch out for potential typos as this is a raw, real-life derived dataset.\n",
    "\n",
    "With these rules in mind, find the correct date in each note and return a pandas Series in chronological order of the original Series' indices.\n",
    "\n",
    "For example if the original series was this:\n",
    "\n",
    "    0    1999\n",
    "    1    2010\n",
    "    2    1978\n",
    "    3    2015\n",
    "    4    1985\n",
    "\n",
    "Your function should return this:\n",
    "\n",
    "    0    2\n",
    "    1    4\n",
    "    2    0\n",
    "    3    1\n",
    "    4    3\n",
    "\n",
    "Your score will be calculated using [Kendall's tau](https://en.wikipedia.org/wiki/Kendall_rank_correlation_coefficient), a correlation measure for ordinal data.\n",
    "\n",
    "*This function should return a Series of length 500 and dtype int.*"
   ]
  },
  {
   "cell_type": "code",
   "execution_count": 35,
   "metadata": {
    "scrolled": true
   },
   "outputs": [],
   "source": [
    "import pandas as pd\n",
    "\n",
    "doc = []\n",
    "with open('dates.txt') as file:\n",
    "    for line in file:\n",
    "        doc.append(line)\n",
    "\n",
    "df = pd.Series(doc)\n",
    "# df[95]"
   ]
  },
  {
   "cell_type": "code",
   "execution_count": 36,
   "metadata": {
    "scrolled": true
   },
   "outputs": [],
   "source": [
    "def date_sorter():\n",
    "    \n",
    "    # Your code here\n",
    "    global df\n",
    "    \n",
    "    month = {'Jan' : 1, 'Feb' : 2, 'Mar' : 3, 'Apr' : 4, 'May' : 5, 'Jun' : 6,\n",
    "             'Jul' : 7, 'Aug' : 8, 'Sep' : 9, 'Oct' : 10, 'Nov' : 11, 'Dec' : 12,\n",
    "             'January' : 1,'Janaury':1,  'February' : 2, 'March' : 3, 'April' : 4, 'June' : 6,'July' : 7, \n",
    "             'August' : 8, 'September' : 9, 'October' : 10, 'November' : 11, 'December' : 12, 'Decemeber' : 12}\n",
    "    \n",
    "    date = df.str.extractall(r'(?P<Date>(?P<Day>\\d{1,2} )?(?P<Month>(?:Jan|Feb|Mar|Apr|May|Jun|Jul|Aug|Sep|Oct|Nov|Dec)[a-z]*)[.,]? (?P<Year>\\d{4}))')\n",
    "    \n",
    "    ind = ~df.index.isin([x[0] for x in date.index])\n",
    "    date = date.append(df.str.extractall(r'(?P<Date>(?P<Month>(?:Jan|Feb|Mar|Apr|May|Jun|Jul|Aug|Sep|Oct|Nov|Dec)[a-z]*)[.-]? (?P<Day>\\d{1,2})(th|nd|st)?[-,]? (?P<Year>\\d{4}))'))\n",
    "    \n",
    "    ind = ~df.index.isin([x[0] for x in date.index])\n",
    "    date =date.append(df[ind].str.extractall(r'(?P<Date>(?P<Month>\\d{1,2})[-/]((?P<Day>\\d{1,2})[/-])(?P<Year>\\d{4})[^0-9])'))\n",
    "    \n",
    "    ind = ~df.index.isin([x[0] for x in date.index])\n",
    "    date =date.append(df[ind].str.extractall(r'(?P<Date>(?P<Month>\\d{1,2})[-/]((?P<Day>\\d{1,2})[/-])(?P<Year>\\d{2})[^0-9])'))\n",
    "    \n",
    "    ind = ~df.index.isin([x[0] for x in date.index])\n",
    "    date =date.append(df[ind].str.extractall(r'(?P<Date>(?P<Month>\\d{1,2})[-/](?P<Year>\\d{4}))'))\n",
    "    \n",
    "    ind = ~df.index.isin([x[0] for x in date.index])\n",
    "    date = date.append(df[ind].str.extractall(r'(?P<Date>(?P<Year>\\d{4}))'))\n",
    "    \n",
    "    date.fillna(1, inplace = True)\n",
    "    date.drop([2,3], axis = 1, inplace = True)\n",
    "    \n",
    "    date.replace({'Month': month}, inplace = True)\n",
    "    date.Year = date.Year.apply(lambda x: '19' + x if len(x) == 2 else x)\n",
    "    date.Year = date.Year.apply(lambda x: str(x))\n",
    "    date.Month = date.Month.apply(lambda x: str(x))\n",
    "    date.Day = date.Day.apply(lambda x: str(x))\n",
    "    \n",
    "    date['final_date'] = (date.Month + '/' + date.Day + '/' + date.Year)\n",
    "    date['final_date'] = pd.to_datetime(date['final_date'])\n",
    "    date.sort_values(by = ['final_date'],ascending = True, inplace = True)\n",
    "    ans = pd.Series(date.index.labels[0])\n",
    "    \n",
    "    return ans\n",
    "# date_sorter()"
   ]
  },
  {
   "cell_type": "code",
   "execution_count": null,
   "metadata": {
    "collapsed": true
   },
   "outputs": [],
   "source": []
  },
  {
   "cell_type": "code",
   "execution_count": 26,
   "metadata": {
    "scrolled": true
   },
   "outputs": [
    {
     "name": "stderr",
     "output_type": "stream",
     "text": [
      "/opt/conda/lib/python3.6/site-packages/ipykernel_launcher.py:8: FutureWarning: currently extract(expand=None) means expand=False (return Index/Series/DataFrame) but in a future version of pandas this will be changed to expand=True (return DataFrame)\n",
      "  \n"
     ]
    }
   ],
   "source": []
  },
  {
   "cell_type": "code",
   "execution_count": null,
   "metadata": {},
   "outputs": [],
   "source": []
  },
  {
   "cell_type": "code",
   "execution_count": null,
   "metadata": {
    "scrolled": true
   },
   "outputs": [],
   "source": []
  },
  {
   "cell_type": "code",
   "execution_count": null,
   "metadata": {},
   "outputs": [],
   "source": []
  },
  {
   "cell_type": "code",
   "execution_count": null,
   "metadata": {
    "collapsed": true
   },
   "outputs": [],
   "source": []
  }
 ],
 "metadata": {
  "coursera": {
   "course_slug": "python-text-mining",
   "graded_item_id": "LvcWI",
   "launcher_item_id": "krne9",
   "part_id": "Mkp1I"
  },
  "kernelspec": {
   "display_name": "Python 3",
   "language": "python",
   "name": "python3"
  },
  "language_info": {
   "codemirror_mode": {
    "name": "ipython",
    "version": 3
   },
   "file_extension": ".py",
   "mimetype": "text/x-python",
   "name": "python",
   "nbconvert_exporter": "python",
   "pygments_lexer": "ipython3",
   "version": "3.6.2"
  }
 },
 "nbformat": 4,
 "nbformat_minor": 2
}
